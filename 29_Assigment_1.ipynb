{
  "nbformat": 4,
  "nbformat_minor": 0,
  "metadata": {
    "colab": {
      "provenance": []
    },
    "kernelspec": {
      "name": "python3",
      "display_name": "Python 3"
    },
    "language_info": {
      "name": "python"
    }
  },
  "cells": [
    {
      "cell_type": "markdown",
      "source": [
        "Q1. who developed python pragramming language?\n",
        "ans. gudo van rossum.\n",
        "\n",
        "\n",
        "---\n",
        "\n",
        "\n",
        "\n",
        "---\n",
        "\n"
      ],
      "metadata": {
        "id": "kxHRGb83pqsC"
      }
    },
    {
      "cell_type": "markdown",
      "source": [
        "Q2. which type of pogramminng does python support?\n",
        "Ans.Object-Oriented Programming (OOP)\n",
        "Functional Programming (FP)\n",
        "Procedural Programming\n",
        "Aspect-Oriented Programming\n",
        "Scripting "
      ],
      "metadata": {
        "id": "skNyHBj_rqb7"
      }
    },
    {
      "cell_type": "markdown",
      "source": [
        "Q3. is python case sensitive when dealing with identifiers?\n",
        "Ans. Yes, Python is case sensitive when dealing with identifiers, such as variable names, function names, class names, and so on."
      ],
      "metadata": {
        "id": "Vbn1F9xmvTKe"
      }
    },
    {
      "cell_type": "markdown",
      "source": [
        "Q4.  What is the correct extension of the Python file?  \n",
        "Ans. The correct extension for a Python file is .py. Python files with this extension contain source code written in the Python programming language. The extension is used to identify the file as a Python file, allowing various tools such as text editors, integrated development environments (IDEs), and the Python interpreter to recognize it as such."
      ],
      "metadata": {
        "id": "7odCL8QHw0PH"
      }
    },
    {
      "cell_type": "markdown",
      "source": [
        "Q5.  Is Python code compiled or interpreted? \n",
        "Ans. Python code is interpreted, not compiled. This means that the code is executed line by line, rather than being translated into machine code and executed directly. The Python interpreter reads the code, interprets it, and executes the instructions it contains. This allows for rapid development and easy modification of code, as well as the ability to interact with the code in a live interpreter session.\n"
      ],
      "metadata": {
        "id": "nkeptGzUxf2H"
      }
    },
    {
      "cell_type": "markdown",
      "source": [
        "Q6. Name a few blocks of code used to define in Python language? \n",
        "Ans. In Python, a few blocks of code used to define structures such as functions, classes, loops, and conditional statements are:\n",
        "\n",
        "Functions: defined using the def keyword, followed by the function name and a set of parentheses that may contain parameters. The code block inside the function is indented.\n",
        "def function_name(parameters)\n",
        "  #code block\n",
        "  return\n",
        "Classes: defined using the class keyword, followed by the class name. The code block inside the class is indented.\n",
        "class classroom:\n",
        "  #code block\n",
        "Loops: for loops are defined using the for keyword, followed by a loop variable, the in keyword, and an iterable object. The code block inside the loop is indented.\n",
        "for variable in iterable:\n",
        "   #code block\n",
        "while loops are defined using the while keyword, followed by a condition. The code block inside the loop is indented.\n",
        "while condition:\n",
        "   # code block\n",
        "Conditional statements: defined using the if keyword, followed by a condition. The code block inside the if statement is indented.\n",
        "if condtion:\n",
        "  #code block\n",
        "These blocks define different structures in Python and allow you to write complex programs.   "
      ],
      "metadata": {
        "id": "iHVMSINJx5IS"
      }
    },
    {
      "cell_type": "markdown",
      "source": [
        "Q7.  State a character used to give single-line comments in Python?\n",
        "Ans. In Python, a single-line comment is indicated by the hash symbol (#). Everything following the '#' on a line is ignored by the interpreter and is considered a comment"
      ],
      "metadata": {
        "id": "H3IloufQzp4l"
      }
    },
    {
      "cell_type": "markdown",
      "source": [
        "Q8. Mention functions which can help us to find the version of python that we are currently working on?\n",
        "Ans. You can find the version of Python you are currently working on by using one of the following functions:\n",
        "'sys.version': This returns a string containing information about the version of Python, including the version number, build date, and compiler used.\n",
        "    import sys\n",
        "print(sys.version)\n",
        "\n",
        "'sys.version_info': This returns a named tuple containing information about the version of Python, including the major, minor, and micro version numbers. \n",
        "    import sys\n",
        "print(sys.version_info) \n",
        "    \n",
        "'platform.python_version()': This returns a string containing the version of Python as a string, similar to sys.version.\n",
        "    import platform\n",
        "print(platform.python_version()) \n",
        "\n",
        "These functions allow you to check the version of Python that you are working on, which can be useful for checking compatibility with certain libraries or for verifying that you are using the correct version for a specific project."
      ],
      "metadata": {
        "id": "D3Os86h10MWN"
      }
    },
    {
      "cell_type": "markdown",
      "source": [
        "Q9.  Python supports the creation of anonymous functions at runtime, using a construct called \n",
        "Ans.  In Python, anonymous functions at runtime can be created using a construct called \"lambda functions\". A lambda function is a small, anonymous function defined using the lambda keyword. It takes any number of arguments and returns a single expression.\n",
        "\n",
        "Here is an example of a lambda function that takes two arguments and returns their sum:\n",
        "   sum = lambda a, b: a + b\n",
        "print(sum(3, 4)) # Output: 7\n",
        "  Lambda functions are often used as a shorthand for simple functions, especially when used as arguments to higher-order functions like map, filter, and reduce. They can also be used to define throw-away functions for one-time use."
      ],
      "metadata": {
        "id": "YKUKVMmy1tba"
      }
    },
    {
      "cell_type": "markdown",
      "source": [
        "Q10.  What does pip stand for python? \n",
        "Ans. 'pip' stands for \"Pip Installs Packages\". It is the default package manager for the Python programming language, and is used to install and manage packages and libraries that are required for a Python project.\n",
        "\n",
        "'pip' is used to manage dependencies and make it easier to distribute and reuse code. It allows you to install packages from the Python Package Index (PyPI), which is a repository of thousands of open-source libraries, as well as packages that you have created yourself.\n",
        "\n",
        "Using 'pip' is straightforward. For example, to install a package named requests, you would run the following command in your terminal or command prompt:\n",
        "     pip install requests\n",
        "\n",
        "'pip' is a crucial tool for Python developers, making it easy to manage and share dependencies, and ensuring that everyone working on a project has the same version of the required packages installed.\n",
        "\n"
      ],
      "metadata": {
        "id": "ZlcNtUj_2caD"
      }
    },
    {
      "cell_type": "markdown",
      "source": [
        "Q11.  Mention a few built-in functions in python? \n",
        "Ans. Here are a few built-in functions in Python:\n",
        "\n",
        "print: prints a message or the value of an expression to the console.\n",
        "len: returns the length of a list, string, tuple, or other iterable.\n",
        "sum: returns the sum of a list or tuple of numbers.\n",
        "min: returns the minimum value in a list or tuple.\n",
        "max: returns the maximum value in a list or tuple.\n",
        "str: converts an object to a string.\n",
        "int: converts an object to an integer.\n",
        "float: converts an object to a floating-point number.\n",
        "list: creates a list from an iterable object.\n",
        "tuple: creates a tuple from an iterable object.\n",
        "dict: creates a dictionary from a set of key-value pairs.\n",
        "sorted: returns a sorted list or tuple.\n",
        "range: creates a sequence of numbers.\n",
        "These built-in functions provide a foundation for working with data and allow you to perform common operations without having to write the code yourself. They are always available and are an essential part of the Python standard library."
      ],
      "metadata": {
        "id": "JfsZBYB83WVE"
      }
    },
    {
      "cell_type": "markdown",
      "source": [
        "Q12. What is the maximum possible length of an identifier in Python?\n",
        "Ans. In Python, there is no theoretical limit to the length of an identifier (variable name, function name, etc.). However, there is a practical limit imposed by the underlying operating system and file system, which varies depending on the platform.\n",
        "\n",
        "Typically, the maximum length of an identifier in Python is limited to around 255 characters, but this can vary based on the file system and other factors. For example, on some systems, the maximum length of a file name is limited to 255 characters, so an identifier that is used as a file name will also be limited to 255 characters.\n",
        "\n",
        "It's good practice to keep identifier names as short as possible while still being meaningful, to make your code more readable and maintainable. A convention in Python is to use all lowercase letters, with words separated by underscores, for identifier names (e.g. my_variable)."
      ],
      "metadata": {
        "id": "fvK4hAQL31F7"
      }
    },
    {
      "cell_type": "markdown",
      "source": [
        "Q13. What are the benefits of using Python? \n",
        "Ans. Here are some benefits of using Python:\n",
        "\n",
        "Easy to learn and use: Python has a simple and straightforward syntax that makes it easy to learn and use, especially for beginners. It is often described as an \"executable pseudo-code\".\n",
        "\n",
        "Versatile: Python can be used for a wide range of tasks, including web development, scientific computing, data analysis, artificial intelligence, and more. It has a large and active community that creates and maintains libraries and packages for these tasks.\n",
        "\n",
        "Large community and support: Python has a large and active community of developers who contribute to its development and offer support and help to users. There are many resources available, including books, tutorials, forums, and Stack Overflow.\n",
        "\n",
        "High-level language: Python is a high-level language that abstracts away many of the low-level details of programming. This makes it easier to focus on solving the problem at hand, rather than getting bogged down in details of memory management or other lower-level details.\n",
        "\n",
        "Readable and maintainable code: Python emphasizes readability and maintainability, making it easier for others to understand and work with your code. This can save time and resources in the long run, especially for large projects.\n",
        "\n",
        "Interoperable: Python can be used with other programming languages and can easily integrate with existing systems and tools.\n",
        "\n",
        "Dynamic typing: Python uses dynamic typing, which means that you don't have to specify the data type of a variable when you declare it. This can be more convenient and less error-prone than static typing.\n",
        "\n",
        "These benefits make Python a popular choice for many types of projects, from small scripts to large, complex systems."
      ],
      "metadata": {
        "id": "5df-lEW24JLM"
      }
    },
    {
      "cell_type": "markdown",
      "source": [
        "Q14.  How is memory managed in Python? \n",
        "Ans. Python uses a system called reference counting and garbage collection to manage memory.\n",
        "\n",
        "Reference counting keeps track of how many references there are to an object in memory. When the number of references to an object drops to zero, the memory occupied by that object is no longer needed and can be freed.\n",
        "\n",
        "The garbage collector periodically checks for objects that are no longer being used and frees up their memory. This is done automatically and transparently, so the programmer does not need to worry about freeing memory manually.\n",
        "\n",
        "Python also implements a memory manager that helps to optimize memory usage. The memory manager keeps track of blocks of memory and reuses them for new objects whenever possible, instead of allocating new blocks of memory for each new object.\n",
        "\n",
        "Overall, Python's memory management makes it easy to use and helps to prevent memory leaks, which can cause programs to slow down or crash over time. "
      ],
      "metadata": {
        "id": "pO4UyQX84nux"
      }
    },
    {
      "cell_type": "markdown",
      "source": [
        "Q15.  How to install Python on Windows and set path variables?\n",
        "Ans. Here is the process for installing Python on Windows and setting the path variables:\n",
        "\n",
        "Download Python: Visit the official Python website (https://www.python.org/downloads/) and download the latest version of Python for Windows.\n",
        "\n",
        "Run the installation file: Double-click the downloaded file and follow the on-screen instructions to install Python.\n",
        "\n",
        "Set environment variables: In Windows, environment variables are used to specify the location of executable files, including Python. To set the environment variables, follow these steps:\n",
        "a. Right-click the Computer icon on the desktop and select Properties.\n",
        "b. Click Advanced system settings.\n",
        "c. In the System Properties window, click the Environment Variables button.\n",
        "d. In the Environment Variables window, scroll down to the System Variables section and look for the variable named \"Path\".\n",
        "e. Click the Edit button for the Path variable and add the path to the Python installation directory, for example: C:\\Python36;\n",
        "\n",
        "Verify the installation: Open the Command Prompt and run the following command: python --version. If Python is installed and the path variables are set correctly, it will display the version of Python that you have installed.\n",
        "\n",
        "With these steps, you should now have Python installed on your Windows machine and be able to run Python scripts from the Command Prompt."
      ],
      "metadata": {
        "id": "ACG0KfZG5CYn"
      }
    },
    {
      "cell_type": "markdown",
      "source": [
        "Q16. Is indentation required in python?\n",
        "Ans. Yes, indentation is required in Python. Unlike many other programming languages, Python uses indentation to define blocks of code, such as loops, functions, and control structures. This means that code blocks are indented relative to their enclosing block, and the amount of indentation determines the structure of the code.\n",
        "For example, the following code defines an if statement:\n",
        "\n",
        " fi x > 0:\n",
        "    print(\"x is positive\")\n",
        "Here, the print statement is indented relative to the if statement, which indicates that it is part of the code block associated with the if statement. This makes the code more readable and helps to prevent syntax errors.\n",
        "\n",
        "In Python, the standard indentation is four spaces. However, it is also possible to use tabs for indentation, as long as the tabs are consistently used throughout the code.\n",
        "\n",
        "In summary, indentation is an important aspect of the Python syntax, and it is required for proper code structure and readability.\n",
        "\n",
        "\n",
        "\n"
      ],
      "metadata": {
        "id": "Q2DkMv0z5hgr"
      }
    }
  ]
}