{
  "nbformat": 4,
  "nbformat_minor": 0,
  "metadata": {
    "colab": {
      "provenance": []
    },
    "kernelspec": {
      "name": "python3",
      "display_name": "Python 3"
    },
    "language_info": {
      "name": "python"
    }
  },
  "cells": [
    {
      "cell_type": "code",
      "source": [
        "# Assignment:2"
      ],
      "metadata": {
        "id": "I4Lpl_psPXwm"
      },
      "execution_count": 2,
      "outputs": []
    },
    {
      "cell_type": "code",
      "source": [
        "#Q:1 write a program to accept percentage from the user and display the grade according to the following criteria:"
      ],
      "metadata": {
        "id": "FIuyyLOkPbZy"
      },
      "execution_count": 3,
      "outputs": []
    },
    {
      "cell_type": "code",
      "source": [
        "marks = int(input(\"please enter the marks : \"))\n",
        "if marks > 90:\n",
        "        print(\"Grade A \")\n",
        "elif marks >80 and marks <=90:\n",
        "        print(\"Grade B \")\n",
        "elif marks >= 60 and marks <=80:\n",
        "        print(\"Grade C \")\n",
        "else:\n",
        "        print(\" grade D \")"
      ],
      "metadata": {
        "colab": {
          "base_uri": "https://localhost:8080/"
        },
        "id": "p_POmknKPk6G",
        "outputId": "fab66622-06d7-41c2-8fea-b9beca33d31f"
      },
      "execution_count": 1,
      "outputs": [
        {
          "output_type": "stream",
          "name": "stdout",
          "text": [
            "please enter the marks : 58\n",
            " grade D \n"
          ]
        }
      ]
    },
    {
      "cell_type": "code",
      "source": [
        "#Q:2 write a program to accept the cost price of a bike and display the raod tax to be paid according to the  following criteria:"
      ],
      "metadata": {
        "id": "IYTwfgvuPouw"
      },
      "execution_count": 4,
      "outputs": []
    },
    {
      "cell_type": "code",
      "source": [
        "tax = int(input(\"please enter the cost of the bike price: \"))\n",
        "if tax > 100000:\n",
        "    print(\"Road tax  will be paid: \", tax*15/100)\n",
        "elif tax >=50000 or tax <=100000:\n",
        "    print(\"Road tax  will be paid: \",tax*10/100)\n",
        "elif tax <= 50000:\n",
        "    print(\"Road tax  will be paid: \",tax*5/100)\n",
        "else:\n",
        "  print('No tax paid')"
      ],
      "metadata": {
        "colab": {
          "base_uri": "https://localhost:8080/"
        },
        "id": "iVHSqaHjP5g9",
        "outputId": "9fbbfda8-b8b5-43cc-f821-913c6a28d0dc"
      },
      "execution_count": 6,
      "outputs": [
        {
          "output_type": "stream",
          "name": "stdout",
          "text": [
            "please enter the cost of the bike price: 54875\n",
            "Road tax  will be paid:  5487.5\n"
          ]
        }
      ]
    },
    {
      "cell_type": "code",
      "source": [
        "#Q:3Accept any city from the user and display monuments of that city. \n"
      ],
      "metadata": {
        "id": "yv75fPOFP_QN"
      },
      "execution_count": 7,
      "outputs": []
    },
    {
      "cell_type": "code",
      "source": [
        "city = input(\"please enter the city name : \")\n",
        "if city == \"delhi\":\n",
        "    print(\"read fort\")\n",
        "elif city == \"agra\":\n",
        "    print(\"taj mahal\")\n",
        "elif city == \"jaipur\":\n",
        "    print(\"jai mahal\")\n",
        "else:\n",
        "    print(\"please enter the valid city name:\")\n",
        "    "
      ],
      "metadata": {
        "colab": {
          "base_uri": "https://localhost:8080/"
        },
        "id": "vGAciTrsQKdR",
        "outputId": "176f1e5f-9572-45d7-e993-14cde8d447c7"
      },
      "execution_count": 11,
      "outputs": [
        {
          "output_type": "stream",
          "name": "stdout",
          "text": [
            "please enter the city name : agra\n",
            "taj mahal\n"
          ]
        }
      ]
    },
    {
      "cell_type": "code",
      "source": [
        "#Q:4. Check how many times a given number can be divided by 3 before it is less than or equal to 10. "
      ],
      "metadata": {
        "id": "bcXUdB6tQPyN"
      },
      "execution_count": 12,
      "outputs": []
    },
    {
      "cell_type": "code",
      "source": [
        "def divisible_by_3(num):\n",
        "    count = 0\n",
        "    while num > 10:\n",
        "        num = num / 3\n",
        "        count += 1\n",
        "    return count\n",
        "\n",
        "num = int(input(\"Enter a number: \"))\n",
        "result = divisible_by_3(num)\n",
        "print(f\"The number can be divided by 3 {result} times before it is less than or equal to 10.\")\n"
      ],
      "metadata": {
        "colab": {
          "base_uri": "https://localhost:8080/"
        },
        "id": "cNNll_e3Qixm",
        "outputId": "90f35b9e-bbe0-422b-a35f-c8d61f4aa3fb"
      },
      "execution_count": 13,
      "outputs": [
        {
          "output_type": "stream",
          "name": "stdout",
          "text": [
            "Enter a number: 54\n",
            "The number can be divided by 3 2 times before it is less than or equal to 10.\n"
          ]
        }
      ]
    },
    {
      "cell_type": "code",
      "source": [
        "# Q:5 Why and When to Use while Loop in Python give a detailed description with example "
      ],
      "metadata": {
        "id": "OrZsfKNdQp8X"
      },
      "execution_count": 14,
      "outputs": []
    },
    {
      "cell_type": "code",
      "source": [
        "## A while loop in Python is used to repeat a block of code as long as the specified condition is true.\n",
        "## while condition:\n",
        "# code to be executed\n",
        "#Here, condition is an expression that evaluates to either True or False. The code within the loop will be executed as long as condition is True. Once condition becomes False, the loop stops and the program continues with the code after the loop.\n",
        "#For example, consider the following code that uses a while loop to print the numbers from 1 to 10:\n",
        "\n",
        "i = 1\n",
        "while i <=10:\n",
        "  print(i)\n",
        "  i = i + 1\n",
        "  # this  while loop  will  run until the value of i is grater then 10 On each iteration of the loop, the value of i is printed, and then it is incremented by 1 using the += operator. The output of this code will be:"
      ],
      "metadata": {
        "colab": {
          "base_uri": "https://localhost:8080/"
        },
        "id": "pQje4sVsQxYa",
        "outputId": "681ea057-b5cb-4c32-a606-833990ecb476"
      },
      "execution_count": 16,
      "outputs": [
        {
          "output_type": "stream",
          "name": "stdout",
          "text": [
            "1\n",
            "2\n",
            "3\n",
            "4\n",
            "5\n",
            "6\n",
            "7\n",
            "8\n",
            "9\n",
            "10\n"
          ]
        }
      ]
    },
    {
      "cell_type": "code",
      "source": [
        "#Q:6 Use nested while loop to print 3 different pattern."
      ],
      "metadata": {
        "id": "Naath8jnRUjz"
      },
      "execution_count": 17,
      "outputs": []
    },
    {
      "cell_type": "code",
      "source": [
        "# Pattern 1\n",
        "i = 1\n",
        "while i <= 5:\n",
        "    j = 1\n",
        "    while j <= i:\n",
        "        print(\"*\", end=\"\")\n",
        "        j += 1\n",
        "    print(\"\")\n",
        "    i += 1\n",
        "\n",
        "# Pattern 2\n",
        "i = 5\n",
        "while i >= 1:\n",
        "    j = 1\n",
        "    while j <= i:\n",
        "        print(\"*\", end=\"\")\n",
        "        j += 1\n",
        "    print(\"\")\n",
        "    i -= 1\n",
        "\n",
        "# Pattern 3\n",
        "i = 1\n",
        "while i <= 5:\n",
        "    j = 5\n",
        "    while j >= i:\n",
        "        print(\" \", end=\"\")\n",
        "        j -= 1\n",
        "    k = 1\n",
        "    while k <= i:\n",
        "        print(\"*\", end=\"\")\n",
        "        k += 1\n",
        "    print(\"\")\n",
        "    i += 1\n"
      ],
      "metadata": {
        "colab": {
          "base_uri": "https://localhost:8080/"
        },
        "id": "ArhvUb4xR07T",
        "outputId": "6517bb65-0db6-4a2b-b9b8-185b1384d76f"
      },
      "execution_count": 18,
      "outputs": [
        {
          "output_type": "stream",
          "name": "stdout",
          "text": [
            "*\n",
            "**\n",
            "***\n",
            "****\n",
            "*****\n",
            "*****\n",
            "****\n",
            "***\n",
            "**\n",
            "*\n",
            "     *\n",
            "    **\n",
            "   ***\n",
            "  ****\n",
            " *****\n"
          ]
        }
      ]
    },
    {
      "cell_type": "code",
      "source": [
        "#Q:7 Reverse a while loop to display numbers from 10 to 1.\n"
      ],
      "metadata": {
        "id": "02E-l3RwR6As"
      },
      "execution_count": 19,
      "outputs": []
    },
    {
      "cell_type": "code",
      "source": [
        "x = 10\n",
        "while x > 0:\n",
        "  print(x)\n",
        "  x = x -1\n"
      ],
      "metadata": {
        "colab": {
          "base_uri": "https://localhost:8080/"
        },
        "id": "xf7oonSCSEiI",
        "outputId": "70ad2368-269d-431a-b5d5-96e44b1fab10"
      },
      "execution_count": 20,
      "outputs": [
        {
          "output_type": "stream",
          "name": "stdout",
          "text": [
            "10\n",
            "9\n",
            "8\n",
            "7\n",
            "6\n",
            "5\n",
            "4\n",
            "3\n",
            "2\n",
            "1\n"
          ]
        }
      ]
    },
    {
      "cell_type": "code",
      "source": [
        "#Q:8 Reverse a while loop to display numbers from 10 to 1.\n"
      ],
      "metadata": {
        "id": "Y30cqEvdSHeK"
      },
      "execution_count": 21,
      "outputs": []
    },
    {
      "cell_type": "code",
      "source": [
        "d = 10\n",
        "while d > 0:\n",
        "  print(d)\n",
        "  d = d -1\n",
        "  "
      ],
      "metadata": {
        "colab": {
          "base_uri": "https://localhost:8080/"
        },
        "id": "zNVFTs2oSMUg",
        "outputId": "82dc70df-2ae8-4b42-8b69-88ffb4a94a4f"
      },
      "execution_count": 22,
      "outputs": [
        {
          "output_type": "stream",
          "name": "stdout",
          "text": [
            "10\n",
            "9\n",
            "8\n",
            "7\n",
            "6\n",
            "5\n",
            "4\n",
            "3\n",
            "2\n",
            "1\n"
          ]
        }
      ]
    },
    {
      "cell_type": "code",
      "source": [],
      "metadata": {
        "id": "ftmKyXUKSO4T"
      },
      "execution_count": null,
      "outputs": []
    }
  ]
}