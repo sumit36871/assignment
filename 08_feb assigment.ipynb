{
 "cells": [
  {
   "cell_type": "markdown",
   "id": "becbe0b7-a1cb-4b2d-bb1c-8d555832018b",
   "metadata": {},
   "source": [
    "Q1. What is Abstraction in OOps? Explain with an example."
   ]
  },
  {
   "cell_type": "markdown",
   "id": "063f0e3c-bca2-40f6-b17b-b37475d85d13",
   "metadata": {},
   "source": [
    "Ans) Abstraction in Object Oriented Programming (OOPs) refers to the process of hiding complex implementation details and showcasing only the necessary information. This is achieved by defining objects and classes with specific characteristics, properties, and behaviors. The goal of abstraction is to simplify complex systems and make it easier for users to interact with the software.\n",
    "\n",
    "For example, consider a car. A car has properties such as make, model, color, and year. It also has behaviors such as driving, stopping, and accelerating. When designing a car object, the designer can choose to hide the details of the engine, transmission, and other complex systems, and instead only expose the properties and behaviors that are necessary for the user to interact with the car. In this way, the designer has abstracted away the complex inner workings of the car and made it easier for the user to interact with the car."
   ]
  },
  {
   "cell_type": "code",
   "execution_count": 1,
   "id": "28539228-c52d-4878-8913-5efd103f37a5",
   "metadata": {},
   "outputs": [],
   "source": [
    "class car:\n",
    "    def __init__(self, name, color, year, speed):\n",
    "        \n",
    "        self.__name = name\n",
    "        self.__color = color \n",
    "        self.__year = year\n",
    "        self.__speed = 0\n",
    "    def set_speed(self , speed):\n",
    "        self.__speed = 0 if speed < 0 else speed\n",
    "    \n",
    "    def get_speed(self):\n",
    "        return self.__speed\n",
    "    "
   ]
  },
  {
   "cell_type": "code",
   "execution_count": 2,
   "id": "77d27e80-2f25-409e-ac82-d55ab502e258",
   "metadata": {},
   "outputs": [],
   "source": [
    "a = car(\"bolero\", \"white\", 1992, 30)\n"
   ]
  },
  {
   "cell_type": "code",
   "execution_count": 3,
   "id": "9167a4fb-12c8-4aa6-a484-5396e10000ae",
   "metadata": {},
   "outputs": [],
   "source": [
    "a.set_speed(50)"
   ]
  },
  {
   "cell_type": "code",
   "execution_count": 4,
   "id": "5ca984d5-4623-4db2-bbcc-b08c57649e63",
   "metadata": {},
   "outputs": [
    {
     "data": {
      "text/plain": [
       "50"
      ]
     },
     "execution_count": 4,
     "metadata": {},
     "output_type": "execute_result"
    }
   ],
   "source": [
    "a.get_speed()"
   ]
  },
  {
   "cell_type": "code",
   "execution_count": 5,
   "id": "568213ee-3078-415a-b626-f2edae93eedd",
   "metadata": {},
   "outputs": [
    {
     "data": {
      "text/plain": [
       "'bolero'"
      ]
     },
     "execution_count": 5,
     "metadata": {},
     "output_type": "execute_result"
    }
   ],
   "source": [
    "a._car__name"
   ]
  },
  {
   "cell_type": "code",
   "execution_count": 6,
   "id": "03cb2dd1-7bb4-4725-aa37-299ae95db81d",
   "metadata": {},
   "outputs": [
    {
     "data": {
      "text/plain": [
       "'white'"
      ]
     },
     "execution_count": 6,
     "metadata": {},
     "output_type": "execute_result"
    }
   ],
   "source": [
    "a._car__color"
   ]
  },
  {
   "cell_type": "code",
   "execution_count": 7,
   "id": "93fc131f-f2f7-4c0e-9d06-1d21278cf7db",
   "metadata": {},
   "outputs": [
    {
     "data": {
      "text/plain": [
       "1992"
      ]
     },
     "execution_count": 7,
     "metadata": {},
     "output_type": "execute_result"
    }
   ],
   "source": [
    "a._car__year"
   ]
  },
  {
   "cell_type": "markdown",
   "id": "de1a1edb-8aae-4262-b7d9-374deeecec46",
   "metadata": {},
   "source": [
    "Abstraction in Object Oriented Programming (OOPs) refers to the process of hiding complex implementation details and showcasing only the necessary information. This is achieved by defining objects and classes with specific characteristics, properties, and behaviors. The goal of abstraction is to simplify complex systems and make it easier for users to interact with the software.\n",
    "\n",
    "For example, consider a car. A car has properties such as make, model, color, and year. It also has behaviors such as driving, stopping, and accelerating. When designing a car object, the designer can choose to hide the details of the engine, transmission, and other complex systems, and instead only expose the properties and behaviors that are necessary for the user to interact with the car. In this way, the designer has abstracted away the complex inner workings of the car and made it easier for the user to interact with the car."
   ]
  },
  {
   "cell_type": "markdown",
   "id": "1c540486-83c2-427d-ae6d-c45d66469b5b",
   "metadata": {},
   "source": [
    "Q2. Differentiate between Abstraction and Encapsulation. Explain with an example."
   ]
  },
  {
   "cell_type": "markdown",
   "id": "cbd1fd91-8867-49d1-8045-57b3604ca496",
   "metadata": {},
   "source": [
    "Ans) Abstraction and encapsulation are two fundamental concepts in object-oriented programming (OOP). Although they are often used interchangeably, they are different concepts.\n",
    "\n",
    "Abstraction is the process of hiding the implementation details of a class and exposing only the necessary information to the user. It's a way of representing the essential features without including the background details or implementation. The main idea behind abstraction is to simplify the complexity of the code and to focus on what the object does, rather than how it does it.\n",
    "\n",
    "Encapsulation, on the other hand, is the technique of wrapping the data (variables) and the code that manipulates the data (methods) inside a single unit or object. Encapsulation provides a way to hide the internal state of an object from the outside world, making it accessible only through the methods defined by the object's class. This helps to ensure data security and prevent unintended modification.\n",
    "\n",
    "For example, consider a bank account class that has a deposit() method and a withdrawal() method. The implementation details of how the deposit and withdrawal operations are performed could be complex, but the user of the bank account class doesn't need to know these details. The abstraction provided by the deposit() and withdrawal() methods allows the user to perform these operations by simply calling these methods, without worrying about the implementation details.\n",
    "\n",
    "Encapsulation is used to protect the internal state of the bank account class from being modified directly by the user. The variables that represent the account balance, for example, are private and can only be modified by the deposit() and withdrawal() methods. This helps to ensure the integrity of the data and prevents unintended modification. class bank_acount."
   ]
  },
  {
   "cell_type": "code",
   "execution_count": 8,
   "id": "df0b0933-caac-401c-a047-d259a95cafe5",
   "metadata": {},
   "outputs": [],
   "source": [
    " class bank_acount:\n",
    "    def __init__(self , balance):\n",
    "        self._balance = balance\n",
    "        \n",
    "        \n",
    "    def depsoit(self, amount):\n",
    "        self._balance = self._balance + amount\n",
    "        \n",
    "    def withdra(self, amount):\n",
    "        if  self._balance >= amount:\n",
    "            self._balance = self._balance - amount\n",
    "            return True\n",
    "        else:\n",
    "            False\n",
    "            \n",
    "    def get_balance(self):\n",
    "        return self._balance\n",
    "    "
   ]
  },
  {
   "cell_type": "code",
   "execution_count": 9,
   "id": "321f61b5-a130-4074-89d9-6d98966092b8",
   "metadata": {},
   "outputs": [],
   "source": [
    "sumit = bank_acount(1000)\n"
   ]
  },
  {
   "cell_type": "code",
   "execution_count": 10,
   "id": "5b03e186-9e33-46ee-9b04-3e86adec8506",
   "metadata": {},
   "outputs": [
    {
     "data": {
      "text/plain": [
       "1000"
      ]
     },
     "execution_count": 10,
     "metadata": {},
     "output_type": "execute_result"
    }
   ],
   "source": [
    "sumit.get_balance()"
   ]
  },
  {
   "cell_type": "code",
   "execution_count": 11,
   "id": "ec9c952a-ab0c-446a-9cb9-fd8f8e3f0a45",
   "metadata": {},
   "outputs": [
    {
     "data": {
      "text/plain": [
       "True"
      ]
     },
     "execution_count": 11,
     "metadata": {},
     "output_type": "execute_result"
    }
   ],
   "source": [
    "sumit.withdra(500)"
   ]
  },
  {
   "cell_type": "code",
   "execution_count": 12,
   "id": "89506bce-4339-480f-9c73-28d799d01af9",
   "metadata": {},
   "outputs": [
    {
     "data": {
      "text/plain": [
       "500"
      ]
     },
     "execution_count": 12,
     "metadata": {},
     "output_type": "execute_result"
    }
   ],
   "source": [
    "sumit.get_balance()"
   ]
  },
  {
   "cell_type": "code",
   "execution_count": 13,
   "id": "59732c55-cb82-47bb-89c4-acf2b3915a6c",
   "metadata": {},
   "outputs": [],
   "source": [
    "sumit.depsoit(5000)"
   ]
  },
  {
   "cell_type": "code",
   "execution_count": 14,
   "id": "e29ab871-f34e-4777-b5b0-204c302d59d1",
   "metadata": {},
   "outputs": [
    {
     "data": {
      "text/plain": [
       "5500"
      ]
     },
     "execution_count": 14,
     "metadata": {},
     "output_type": "execute_result"
    }
   ],
   "source": [
    "sumit.get_balance()"
   ]
  },
  {
   "cell_type": "markdown",
   "id": "2e5d1cba-1ba4-4d17-a40a-193e86a62f03",
   "metadata": {},
   "source": [
    "Q3. What is abc module in python? Why is it used?\n",
    "\n"
   ]
  },
  {
   "cell_type": "markdown",
   "id": "a8ee3dd5-2675-4267-8f89-3abf43afb95e",
   "metadata": {},
   "source": [
    "Ans) No, you cannot create an instance of an abstract class. An abstract class is a class that is intended to be used as a base class for one or more derived classes, and cannot be instantiated on its own.\n",
    "\n",
    "The purpose of an abstract class is to provide a common interface for a set of related classes, and to enforce the implementation of certain methods in the derived classes. An abstract class is not meant to be used as a standalone class, but rather as a blueprint for creating concrete subclasses that provide specific implementations.\n",
    "\n",
    "If you try to create an instance of an abstract class, you will get a TypeError indicating that the abstract class cannot be instantiated. In order to use an abstract class, you must create a derived class that implements all of the abstract methods defined by the abstract class, and then create an instance of the derived class.\n",
    "\n",
    "Here's an example in Python"
   ]
  },
  {
   "cell_type": "code",
   "execution_count": 16,
   "id": "c41625f1-c7e5-47eb-a9e2-f45d24b0846d",
   "metadata": {},
   "outputs": [],
   "source": [
    "import abc\n",
    "\n",
    "class shape:\n",
    "    \n",
    "    def area(self):\n",
    "        pass\n",
    "    \n",
    "    def parameter(self):\n",
    "        pass\n",
    "\n",
    "class Rectangle(shape):\n",
    "    \n",
    "    def __init__(self , width, height):\n",
    "        self.width = width\n",
    "        self.height = height\n",
    "    \n",
    "    \n",
    "    def area(self):\n",
    "        return self.width * self.height\n",
    "    \n",
    "    def parameter(self):\n",
    "         return 2 * self.width + self.height\n",
    "        \n",
    "        \n",
    "\n"
   ]
  },
  {
   "cell_type": "code",
   "execution_count": 17,
   "id": "78195350-0630-43bb-87f2-e7298fe910a5",
   "metadata": {},
   "outputs": [],
   "source": [
    "rect = Rectangle(52,25)"
   ]
  },
  {
   "cell_type": "code",
   "execution_count": 18,
   "id": "c86d940a-ed6c-458c-aada-35083aa020e2",
   "metadata": {},
   "outputs": [
    {
     "data": {
      "text/plain": [
       "1300"
      ]
     },
     "execution_count": 18,
     "metadata": {},
     "output_type": "execute_result"
    }
   ],
   "source": [
    "rect.area()"
   ]
  },
  {
   "cell_type": "code",
   "execution_count": 20,
   "id": "d0b029c6-b9c1-48ab-9b0a-d06f49ef1110",
   "metadata": {},
   "outputs": [
    {
     "data": {
      "text/plain": [
       "52"
      ]
     },
     "execution_count": 20,
     "metadata": {},
     "output_type": "execute_result"
    }
   ],
   "source": [
    "rect.width"
   ]
  },
  {
   "cell_type": "code",
   "execution_count": 21,
   "id": "5c7a6642-5fbb-47b3-b0d9-ff4f30b92c88",
   "metadata": {},
   "outputs": [
    {
     "data": {
      "text/plain": [
       "129"
      ]
     },
     "execution_count": 21,
     "metadata": {},
     "output_type": "execute_result"
    }
   ],
   "source": [
    "rect.parameter()"
   ]
  },
  {
   "cell_type": "code",
   "execution_count": 22,
   "id": "231e2746-c0b1-4c5d-88c9-99a5a635a214",
   "metadata": {},
   "outputs": [
    {
     "data": {
      "text/plain": [
       "25"
      ]
     },
     "execution_count": 22,
     "metadata": {},
     "output_type": "execute_result"
    }
   ],
   "source": [
    "rect.height"
   ]
  },
  {
   "cell_type": "markdown",
   "id": "3ea28ca3-4ac1-4580-9b85-0372b010b737",
   "metadata": {},
   "source": [
    "In this example, the Shape class is defined as an abstract class, with two abstract methods, area and perimeter. The Rectangle class is a derived class of Shape, and provides implementations for the area and perimeter methods. An instance of the Rectangle class can be created, as it has implemented all of the abstract methods of the\n",
    "\n",
    "\n",
    "\n"
   ]
  },
  {
   "cell_type": "markdown",
   "id": "2312a1c4-4239-4d26-9058-2947c3019da0",
   "metadata": {},
   "source": [
    "Q4. How can we achieve data abstraction?"
   ]
  },
  {
   "cell_type": "markdown",
   "id": "0aec5271-d64b-41f8-a2e0-99b41740cc9b",
   "metadata": {},
   "source": [
    "Ans) Data abstraction is a technique of hiding the implementation details of a class and exposing only the necessary information to the user. The main idea behind data abstraction is to simplify the complexity of the code and to focus on what the data represents, rather than how it is stored or manipulated.\n",
    "\n",
    "There are several ways to achieve data abstraction in object-oriented programming:\n",
    "\n",
    "Encapsulation: Encapsulation is the technique of wrapping the data (variables) and the code that manipulates the data (methods) inside a single unit or object. Encapsulation provides a way to hide the internal state of an object from the outside world, making it accessible only through the methods defined by the object's class. This helps to ensure data security and prevent unintended modification.\n",
    "\n",
    "Access Modifiers: Access modifiers such as private, protected, and public can be used to control access to the data and methods of a class. For example, a private data member can only be accessed within the class, while a public data member can be accessed from anywhere. Access modifiers are used to define the level of visibility of the data and methods, and to enforce data abstraction.\n",
    "\n",
    "Getters and Setters: Getters and setters are special methods that are used to get and set the value of a data member, respectively. They can be used to control access to the data and to enforce data abstraction.\n",
    "\n",
    "Interfaces: Interfaces are used to define a common set of methods that must be implemented by a class. Interfaces provide a way to define the behavior that a class must have, without specifying the implementation details. They are used to enforce data abstraction by defining a common interface for a set of classes.\n",
    "\n",
    "Abstract Classes: Abstract classes are classes that cannot be instantiated and are intended to be used as a base class for one or more derived classes. Abstract classes are used to specify a common interface for a set of derived classes, and to ensure that the derived classes implement certain methods.\n",
    "\n",
    "By using these techniques, data abstraction can be achieved in object-oriented programming, allowing the user to focus on what the data represents, rather than how it is stored or manipulated.\n",
    "\n",
    "\n",
    "\n",
    "\n",
    "\n",
    "\n",
    "\n"
   ]
  },
  {
   "cell_type": "markdown",
   "id": "9ebfa254-069b-419c-971e-4b70ff236879",
   "metadata": {},
   "source": [
    "Q5. Can we create an instance of an abstract class? Explain your answer.\n",
    "\n"
   ]
  },
  {
   "cell_type": "markdown",
   "id": "e996f849-b2dd-4951-9bbf-c6bbd7b036b8",
   "metadata": {},
   "source": [
    "Ans) No, you cannot create an instance of an abstract class. An abstract class is a class that is meant to serve as a blueprint for other classes. It defines a common interface for its subclasses, but it cannot be instantiated on its own.\n",
    "\n",
    "Here is a simple example to illustrate this concept:"
   ]
  },
  {
   "cell_type": "code",
   "execution_count": 23,
   "id": "827a7365-7ea3-47a0-99b0-8bc470febee1",
   "metadata": {},
   "outputs": [],
   "source": [
    "class Animal:\n",
    "    \n",
    "    def __init__(self , name):\n",
    "        self.name = name\n",
    "        \n",
    "    def make_sound(self):\n",
    "        pass\n",
    "    \n",
    "class dog(Animal):\n",
    "    def make_sound(self):\n",
    "        print(\" bark , bark!\")"
   ]
  },
  {
   "cell_type": "code",
   "execution_count": 25,
   "id": "e9cc3d55-7aeb-4e59-9f58-d1c66131593f",
   "metadata": {},
   "outputs": [],
   "source": [
    "dog = dog(\"bear\")"
   ]
  },
  {
   "cell_type": "code",
   "execution_count": 26,
   "id": "c9369300-89ce-434a-a91f-dc058c529c47",
   "metadata": {},
   "outputs": [
    {
     "name": "stdout",
     "output_type": "stream",
     "text": [
      " bark , bark!\n"
     ]
    }
   ],
   "source": [
    "dog.make_sound()"
   ]
  },
  {
   "cell_type": "code",
   "execution_count": 27,
   "id": "afe93853-bbf5-4ef1-a95c-3376ab7ff23d",
   "metadata": {},
   "outputs": [
    {
     "data": {
      "text/plain": [
       "'bear'"
      ]
     },
     "execution_count": 27,
     "metadata": {},
     "output_type": "execute_result"
    }
   ],
   "source": [
    "dog.name"
   ]
  },
  {
   "cell_type": "markdown",
   "id": "4718ff29-11e2-4b35-b547-f9e71aa5b26b",
   "metadata": {},
   "source": [
    "In this example, the Animal class is defined as an abstract class, which serves as a blueprint for other classes. It has an abstract method make_sound, which must be implemented by any concrete class that inherits from Animal. The Dog class is a concrete class that inherits from Animal and provides an implementation for the make_sound method. An instance of the Dog class can be created, as it has provided an implementation for all of the abstract methods defined in the abstract class. However, it does not make sense to create an instance of the abstract class Animal, as it is not a complete class on its own and cannot be used without being subclassed.\n"
   ]
  },
  {
   "cell_type": "code",
   "execution_count": null,
   "id": "63419939-8cb7-446e-bfc3-5e3d80e1df40",
   "metadata": {},
   "outputs": [],
   "source": []
  }
 ],
 "metadata": {
  "kernelspec": {
   "display_name": "Python 3 (ipykernel)",
   "language": "python",
   "name": "python3"
  },
  "language_info": {
   "codemirror_mode": {
    "name": "ipython",
    "version": 3
   },
   "file_extension": ".py",
   "mimetype": "text/x-python",
   "name": "python",
   "nbconvert_exporter": "python",
   "pygments_lexer": "ipython3",
   "version": "3.10.8"
  }
 },
 "nbformat": 4,
 "nbformat_minor": 5
}
