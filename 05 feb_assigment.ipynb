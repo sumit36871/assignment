{
 "cells": [
  {
   "cell_type": "markdown",
   "id": "b0f67c3e-f5f8-498c-8302-a2efa329f6bf",
   "metadata": {},
   "source": [
    "Q1. Explain Class and Object with respect to Object-Oriented Programming. Give a suitable example."
   ]
  },
  {
   "cell_type": "markdown",
   "id": "736274bb-235d-47ac-97c8-574e9d839098",
   "metadata": {},
   "source": [
    "Ans. Class and Object in Object-Oriented Programming (OOP)\n",
    "\n",
    "In OOP, a class is a blueprint for creating objects (instances of that class). A class defines a set of attributes (data) and methods (functions) that objects created from that class will have. Objects created from a class are called instances or objects.\n",
    "\n",
    "For example, you can create a class named 'student' that has attributes like 'name', 'age', and 'gender, and methods like 'introduce' like this:"
   ]
  },
  {
   "cell_type": "code",
   "execution_count": 4,
   "id": "b267d1f1-604d-4ff2-9129-583b351ef97a",
   "metadata": {},
   "outputs": [],
   "source": [
    "class student:\n",
    "    def __init__(self, name, age, gender):\n",
    "        self.name = name\n",
    "        self.age = age\n",
    "        self.gender = gender\n",
    "\n",
    "    def introduce(self):\n",
    "        return self.name, self.age, self.gender"
   ]
  },
  {
   "cell_type": "code",
   "execution_count": 6,
   "id": "c4ba4edc-fbba-4bc4-81f3-545b8f561654",
   "metadata": {},
   "outputs": [],
   "source": [
    "sumit = student(\"sumit\", 24, \"male\")"
   ]
  },
  {
   "cell_type": "code",
   "execution_count": 7,
   "id": "10db84e7-dd48-47c9-aeca-5c960ab920ed",
   "metadata": {},
   "outputs": [
    {
     "data": {
      "text/plain": [
       "('sumit', 24, 'male')"
      ]
     },
     "execution_count": 7,
     "metadata": {},
     "output_type": "execute_result"
    }
   ],
   "source": [
    "sumit.introduce()"
   ]
  },
  {
   "cell_type": "code",
   "execution_count": 9,
   "id": "dc7f2331-25b6-4f7b-b8b0-556583a9e1ef",
   "metadata": {},
   "outputs": [
    {
     "data": {
      "text/plain": [
       "'sumit'"
      ]
     },
     "execution_count": 9,
     "metadata": {},
     "output_type": "execute_result"
    }
   ],
   "source": [
    "sumit.name"
   ]
  },
  {
   "cell_type": "code",
   "execution_count": 10,
   "id": "bb51fd55-c26a-42c1-a642-f118f0ac200a",
   "metadata": {},
   "outputs": [
    {
     "data": {
      "text/plain": [
       "24"
      ]
     },
     "execution_count": 10,
     "metadata": {},
     "output_type": "execute_result"
    }
   ],
   "source": [
    "sumit.age"
   ]
  },
  {
   "cell_type": "code",
   "execution_count": 11,
   "id": "9fbdbb02-c6c7-40fc-9e87-3d581939f6ca",
   "metadata": {},
   "outputs": [
    {
     "data": {
      "text/plain": [
       "'male'"
      ]
     },
     "execution_count": 11,
     "metadata": {},
     "output_type": "execute_result"
    }
   ],
   "source": [
    "sumit.gender"
   ]
  },
  {
   "cell_type": "markdown",
   "id": "b8cd507a-a1af-4e8e-9309-6df6104b7b4a",
   "metadata": {},
   "source": [
    "Q2. Name the four pillars of OOPs. "
   ]
  },
  {
   "cell_type": "markdown",
   "id": "dde4b23f-b6ad-4c81-a8c6-622ec8482ce6",
   "metadata": {},
   "source": [
    "Ans.The four pillars of Object-Oriented Programming (OOP) are:\n",
    "\n",
    "Encapsulation: It refers to the idea of bundling data and methods that operate on that data within a single object. Encapsulation helps to reduce the complexity of a program and ensure the data is protected from external access and modification.\n",
    "\n",
    "Abstraction: Abstraction is the process of hiding implementation details and showing only the necessary information to the user. It helps to simplify complex systems by reducing the amount of information that the user needs to be aware of.\n",
    "\n",
    "Inheritance: It is a mechanism that allows one class to inherit properties and behaviors from a parent class. The child class can reuse the properties and methods defined in the parent class and can add new properties and methods to create a more specialized version of the parent class.\n",
    "\n",
    "Polymorphism: Polymorphism is the ability of an object to take on multiple forms. It allows objects to be treated as objects of their parent class, while still maintaining their unique properties and methods. This enables objects to be interchangeable and helps to reduce code complexity by avoiding the need for separate code for each type of object."
   ]
  },
  {
   "cell_type": "markdown",
   "id": "564d861c-b201-484f-b6cf-c8e752d07687",
   "metadata": {},
   "source": [
    "Q3. Explain why the __init__() function is used. Give a suitable example"
   ]
  },
  {
   "cell_type": "markdown",
   "id": "d74957d1-b533-4aad-a7d7-74a6313ffc6a",
   "metadata": {},
   "source": [
    "Ans. The '__init__' function is a special method in Python classes, and it is known as a constructor. It is automatically called when an object of the class is created and allows you to set the initial values for the attributes of the object."
   ]
  },
  {
   "cell_type": "code",
   "execution_count": 12,
   "id": "210794fa-ac93-4eb8-9c3f-44483caa0589",
   "metadata": {},
   "outputs": [
    {
     "name": "stdout",
     "output_type": "stream",
     "text": [
      "bolero mahindra 1954\n",
      "kicks nissan 1933\n"
     ]
    }
   ],
   "source": [
    "class car:\n",
    "    def __init__(self, name, model, year):\n",
    "        self.name = name\n",
    "        self.model = model\n",
    "        self.year = year\n",
    "\n",
    "car1 = car(\"bolero\",\"mahindra\", 1954)\n",
    "car2 = car(\"kicks\", \"nissan\", 1933)\n",
    "\n",
    "print(car1.name, car1.model, car1.year) \n",
    "print(car2.name, car2.model, car2.year)"
   ]
  },
  {
   "cell_type": "code",
   "execution_count": 13,
   "id": "a98484a2-c65e-45b8-ae15-0e2639910294",
   "metadata": {},
   "outputs": [
    {
     "data": {
      "text/plain": [
       "'mahindra'"
      ]
     },
     "execution_count": 13,
     "metadata": {},
     "output_type": "execute_result"
    }
   ],
   "source": [
    "car1.model"
   ]
  },
  {
   "cell_type": "code",
   "execution_count": 14,
   "id": "ea9f0af8-95fc-4742-9ca1-cead5f253950",
   "metadata": {},
   "outputs": [
    {
     "data": {
      "text/plain": [
       "'nissan'"
      ]
     },
     "execution_count": 14,
     "metadata": {},
     "output_type": "execute_result"
    }
   ],
   "source": [
    "car2.model"
   ]
  },
  {
   "cell_type": "code",
   "execution_count": 15,
   "id": "5242f1b4-0263-49dd-8b6a-48cb2a529f67",
   "metadata": {},
   "outputs": [
    {
     "data": {
      "text/plain": [
       "'bolero'"
      ]
     },
     "execution_count": 15,
     "metadata": {},
     "output_type": "execute_result"
    }
   ],
   "source": [
    "car1.name"
   ]
  },
  {
   "cell_type": "code",
   "execution_count": 16,
   "id": "a2f838b8-782a-4432-a27a-39bf8d578563",
   "metadata": {},
   "outputs": [
    {
     "data": {
      "text/plain": [
       "'kicks'"
      ]
     },
     "execution_count": 16,
     "metadata": {},
     "output_type": "execute_result"
    }
   ],
   "source": [
    "car2.name"
   ]
  },
  {
   "cell_type": "code",
   "execution_count": 17,
   "id": "9016ef4f-c9a1-46e5-b0e3-0de0785fdd5b",
   "metadata": {},
   "outputs": [
    {
     "data": {
      "text/plain": [
       "1954"
      ]
     },
     "execution_count": 17,
     "metadata": {},
     "output_type": "execute_result"
    }
   ],
   "source": [
    "car1.year"
   ]
  },
  {
   "cell_type": "markdown",
   "id": "ebf0e0a1-78ad-4cdb-8ed4-cfebc30043d7",
   "metadata": {},
   "source": [
    "Q4. Why self is used in OOPs?"
   ]
  },
  {
   "cell_type": "markdown",
   "id": "3872ba0a-553f-4dbf-87fe-f8368939959f",
   "metadata": {},
   "source": [
    "Ans. In Object-Oriented Programming (OOP), 'self' is a reference to the current instance of the class. It is used to access the attributes and methods of the class within the class definition.\n",
    "\n",
    "When an object is created from a class, the 'self' reference is automatically passed to the class's methods as the first argument. This allows you to access the attributes and methods of the object within the method.\n",
    "\n",
    "Without 'self', it would not be possible to access the attributes and methods of the object within the class, and OOP would be limited in its functionality."
   ]
  },
  {
   "cell_type": "markdown",
   "id": "e86a4231-e6b7-4f3a-babc-168f43005830",
   "metadata": {},
   "source": [
    "Q5. What is inheritance? Give an example for each type of inheritance."
   ]
  },
  {
   "cell_type": "markdown",
   "id": "8c33da57-f304-415a-b859-7c39fb1879fe",
   "metadata": {},
   "source": [
    "In object-oriented programming, inheritance is a mechanism that allows a new class to be based on an existing class. Inheritance enables the new class to inherit properties and methods from the existing class, which can then be further extended or customized as needed.\n",
    "\n",
    "The existing class is called the \"base class\" or \"parent class,\" and the new class is called the \"derived class\" or \"child class.\" The derived class inherits all the members (methods, properties, and fields) of the parent class and can also add its own members. The derived class can also override the members of the parent class to provide its own implementation."
   ]
  },
  {
   "cell_type": "code",
   "execution_count": 25,
   "id": "6fc7ddf4-775a-43b1-831d-3259adcd7e0c",
   "metadata": {},
   "outputs": [],
   "source": [
    "class Animal:\n",
    "    def __init__(self, name, species):\n",
    "        self.name = name\n",
    "        self.species = species\n",
    "\n",
    "    def make_sound(self):\n",
    "        pass \n",
    "\n",
    "class wolf(Animal):\n",
    "    def make_sound(self):\n",
    "        \n",
    "        return \"moan\"\n"
   ]
  },
  {
   "cell_type": "code",
   "execution_count": 26,
   "id": "286b9344-ff69-4c4a-8c89-867635458bc9",
   "metadata": {},
   "outputs": [],
   "source": [
    "wolf = wolf(\"akela\", \"canis lupus\")"
   ]
  },
  {
   "cell_type": "code",
   "execution_count": 28,
   "id": "abb1ce92-9e43-4773-9ef8-522dfb612e8d",
   "metadata": {},
   "outputs": [
    {
     "data": {
      "text/plain": [
       "'moan'"
      ]
     },
     "execution_count": 28,
     "metadata": {},
     "output_type": "execute_result"
    }
   ],
   "source": [
    "wolf.make_sound()"
   ]
  },
  {
   "cell_type": "code",
   "execution_count": 29,
   "id": "ac736599-8e84-4f69-b454-bfd663571ca4",
   "metadata": {},
   "outputs": [
    {
     "data": {
      "text/plain": [
       "'akela'"
      ]
     },
     "execution_count": 29,
     "metadata": {},
     "output_type": "execute_result"
    }
   ],
   "source": [
    "wolf.name"
   ]
  },
  {
   "cell_type": "code",
   "execution_count": 30,
   "id": "3a615f66-eca9-4c62-aed3-ed47a8df332a",
   "metadata": {},
   "outputs": [
    {
     "data": {
      "text/plain": [
       "'canis lupus'"
      ]
     },
     "execution_count": 30,
     "metadata": {},
     "output_type": "execute_result"
    }
   ],
   "source": [
    "wolf.species"
   ]
  },
  {
   "cell_type": "code",
   "execution_count": null,
   "id": "7fe494cd-cabe-4a12-84bb-253d55b32775",
   "metadata": {},
   "outputs": [],
   "source": []
  }
 ],
 "metadata": {
  "kernelspec": {
   "display_name": "Python 3 (ipykernel)",
   "language": "python",
   "name": "python3"
  },
  "language_info": {
   "codemirror_mode": {
    "name": "ipython",
    "version": 3
   },
   "file_extension": ".py",
   "mimetype": "text/x-python",
   "name": "python",
   "nbconvert_exporter": "python",
   "pygments_lexer": "ipython3",
   "version": "3.10.8"
  }
 },
 "nbformat": 4,
 "nbformat_minor": 5
}
