{
  "nbformat": 4,
  "nbformat_minor": 0,
  "metadata": {
    "colab": {
      "provenance": []
    },
    "kernelspec": {
      "name": "python3",
      "display_name": "Python 3"
    },
    "language_info": {
      "name": "python"
    }
  },
  "cells": [
    {
      "cell_type": "code",
      "execution_count": 1,
      "metadata": {
        "id": "4_PS3HzoCayq"
      },
      "outputs": [],
      "source": [
        "#Q:1 Which keyword is used to create a function? Create a function to return a list of odd numbers in the  range of 1 to 25. "
      ]
    },
    {
      "cell_type": "code",
      "source": [
        "def odd_number(n):\n",
        "  return [i for i in range(n) if i  % 2 != 0]\n",
        "print(odd_number(26))\n"
      ],
      "metadata": {
        "colab": {
          "base_uri": "https://localhost:8080/"
        },
        "id": "CVvBGSc-Dnu-",
        "outputId": "ca488a10-ee6e-49b7-8230-fc5d161f3aab"
      },
      "execution_count": 4,
      "outputs": [
        {
          "output_type": "stream",
          "name": "stdout",
          "text": [
            "[1, 3, 5, 7, 9, 11, 13, 15, 17, 19, 21, 23, 25]\n"
          ]
        }
      ]
    },
    {
      "cell_type": "code",
      "source": [
        "#Q:2 Why *args and **kwargs is used in some functions? Create a function each for *args and **kwargs  to demonstrate their use. \n"
      ],
      "metadata": {
        "id": "5JnwCGA_DrLR"
      },
      "execution_count": 5,
      "outputs": []
    },
    {
      "cell_type": "code",
      "source": [
        "def testing1(*args):\n",
        "  return args\n",
        "testing1()"
      ],
      "metadata": {
        "colab": {
          "base_uri": "https://localhost:8080/"
        },
        "id": "d0rb46RQD7ji",
        "outputId": "c96061f9-91bb-4189-fede-a019e89ec670"
      },
      "execution_count": 6,
      "outputs": [
        {
          "output_type": "execute_result",
          "data": {
            "text/plain": [
              "()"
            ]
          },
          "metadata": {},
          "execution_count": 6
        }
      ]
    },
    {
      "cell_type": "code",
      "source": [
        "type(testing1())"
      ],
      "metadata": {
        "colab": {
          "base_uri": "https://localhost:8080/"
        },
        "id": "WuRQS34WEC-z",
        "outputId": "b5a06b0f-6186-4f77-eaa2-968889d8f633"
      },
      "execution_count": 7,
      "outputs": [
        {
          "output_type": "execute_result",
          "data": {
            "text/plain": [
              "tuple"
            ]
          },
          "metadata": {},
          "execution_count": 7
        }
      ]
    },
    {
      "cell_type": "code",
      "source": [
        "testing1(1,3,4,5,\"sumit\", \"yadav\",[2,2,34,5] )"
      ],
      "metadata": {
        "colab": {
          "base_uri": "https://localhost:8080/"
        },
        "id": "3futgXQYENAQ",
        "outputId": "03a358d8-6d20-4a1e-8372-e83551643e8b"
      },
      "execution_count": 8,
      "outputs": [
        {
          "output_type": "execute_result",
          "data": {
            "text/plain": [
              "(1, 3, 4, 5, 'sumit', 'yadav', [2, 2, 34, 5])"
            ]
          },
          "metadata": {},
          "execution_count": 8
        }
      ]
    },
    {
      "cell_type": "code",
      "source": [
        "def testing2(**kwargs):\n",
        "  return kwargs \n"
      ],
      "metadata": {
        "id": "M1ZbPoXrEXUH"
      },
      "execution_count": 9,
      "outputs": []
    },
    {
      "cell_type": "code",
      "source": [
        "testing2()\n"
      ],
      "metadata": {
        "colab": {
          "base_uri": "https://localhost:8080/"
        },
        "id": "0ORyGlapEbs3",
        "outputId": "1853232d-29c1-418d-8d67-81fbd40d4619"
      },
      "execution_count": 10,
      "outputs": [
        {
          "output_type": "execute_result",
          "data": {
            "text/plain": [
              "{}"
            ]
          },
          "metadata": {},
          "execution_count": 10
        }
      ]
    },
    {
      "cell_type": "code",
      "source": [
        "type(testing2())"
      ],
      "metadata": {
        "colab": {
          "base_uri": "https://localhost:8080/"
        },
        "id": "3cDX9AyvEhYF",
        "outputId": "c56645e4-f6c9-4ae5-edb5-9ca7603cff6e"
      },
      "execution_count": 11,
      "outputs": [
        {
          "output_type": "execute_result",
          "data": {
            "text/plain": [
              "dict"
            ]
          },
          "metadata": {},
          "execution_count": 11
        }
      ]
    },
    {
      "cell_type": "code",
      "source": [
        "testing2(a =\"apple\", b = [1,2,3,4,5] , c = 59.60 , d = \"sumityadav\" )"
      ],
      "metadata": {
        "colab": {
          "base_uri": "https://localhost:8080/"
        },
        "id": "HNXxiBkmEkR8",
        "outputId": "c10ea0fe-dbc7-45cb-cc51-8443ee317c33"
      },
      "execution_count": 13,
      "outputs": [
        {
          "output_type": "execute_result",
          "data": {
            "text/plain": [
              "{'a': 'apple', 'b': [1, 2, 3, 4, 5], 'c': 59.6, 'd': 'sumityadav'}"
            ]
          },
          "metadata": {},
          "execution_count": 13
        }
      ]
    },
    {
      "cell_type": "code",
      "source": [
        "#Q:3 What is an iterator in python? Name the method used to initialise the iterator object and the method  used for iteration. Use these methods to print the first five elements of the given list [2, 4, 6, 8, 10, 12, 14,  16, 18, 20]. \n"
      ],
      "metadata": {
        "id": "o_Zx932pEn-9"
      },
      "execution_count": 14,
      "outputs": []
    },
    {
      "cell_type": "code",
      "source": [
        "l = [2,4,6,8,10,12,1,4,16,18,20]\n",
        "a = iter(l)\n",
        "for i in range(5):\n",
        "  print(next(a))"
      ],
      "metadata": {
        "colab": {
          "base_uri": "https://localhost:8080/"
        },
        "id": "CtqIdy2qExxO",
        "outputId": "164ba578-0fc6-4d75-d0d8-4f439c89567a"
      },
      "execution_count": 15,
      "outputs": [
        {
          "output_type": "stream",
          "name": "stdout",
          "text": [
            "2\n",
            "4\n",
            "6\n",
            "8\n",
            "10\n"
          ]
        }
      ]
    },
    {
      "cell_type": "code",
      "source": [
        "#Q:4 what is a generator function in python? Why yield keyword is used? Give an example of a generator  function."
      ],
      "metadata": {
        "id": "-8CjRnN4EzoN"
      },
      "execution_count": 16,
      "outputs": []
    },
    {
      "cell_type": "code",
      "source": [
        "# A generator function in Python is a special type of function that returns a generator iterator. The generator function uses the \"yield\" keyword instead of the \"return\" keyword to return a value. The yield statement suspends the function's execution and saves the local state, so that it can be resumed later from where it left off. Each time the generator is called, the function resumes its execution and generates the next value in the sequence.\n",
        "#Here's an example of a simple generator function that generates the numbers 0 to n.\n",
        "\n",
        "def generate_numbers(n):\n",
        "  for i in range(n):\n",
        "    yield i\n",
        "\n",
        "for number in generate_numbers(5):\n",
        "    print(number)"
      ],
      "metadata": {
        "colab": {
          "base_uri": "https://localhost:8080/"
        },
        "id": "IwjBnn47E-eZ",
        "outputId": "c67eb684-cc72-4ee0-aa67-ec507ebe3659"
      },
      "execution_count": 17,
      "outputs": [
        {
          "output_type": "stream",
          "name": "stdout",
          "text": [
            "0\n",
            "1\n",
            "2\n",
            "3\n",
            "4\n"
          ]
        }
      ]
    },
    {
      "cell_type": "code",
      "source": [
        "#Q:5 Create a generator function for prime numbers less than 1000. Use the next() method to print the  first 20 prime numbers. \n"
      ],
      "metadata": {
        "id": "W1i5sm_PFA__"
      },
      "execution_count": 18,
      "outputs": []
    },
    {
      "cell_type": "code",
      "source": [
        "def prime_number():\n",
        "  yield 2\n",
        "  prime = [2]\n",
        "  n = 2\n",
        "  while n < 1000:\n",
        "    aprime = True\n",
        "    for x in prime:\n",
        "      if n % x == 0:\n",
        "        aprime = False\n",
        "        break\n",
        "    if aprime:\n",
        "      prime.append(n)\n",
        "      yield n\n",
        "    n = n + 1\n",
        "number = prime_number()\n",
        "for i in  range(20):\n",
        "  print(next(number))"
      ],
      "metadata": {
        "colab": {
          "base_uri": "https://localhost:8080/"
        },
        "id": "SdI9LKdfFExJ",
        "outputId": "81f24b81-78d8-4323-fc9d-1793d8399718"
      },
      "execution_count": 19,
      "outputs": [
        {
          "output_type": "stream",
          "name": "stdout",
          "text": [
            "2\n",
            "3\n",
            "5\n",
            "7\n",
            "11\n",
            "13\n",
            "17\n",
            "19\n",
            "23\n",
            "29\n",
            "31\n",
            "37\n",
            "41\n",
            "43\n",
            "47\n",
            "53\n",
            "59\n",
            "61\n",
            "67\n",
            "71\n"
          ]
        }
      ]
    },
    {
      "cell_type": "code",
      "source": [
        "#Q:6 Write a python program to print the first 10 Fibonacci numbers using a while loop. \n"
      ],
      "metadata": {
        "id": "FN4GZIKTFIwV"
      },
      "execution_count": 20,
      "outputs": []
    },
    {
      "cell_type": "code",
      "source": [
        "number = 10\n",
        "a , b = 0 , 1\n",
        "count = 0 \n",
        "while count < number :\n",
        "   print(a)\n",
        "   c = a + b\n",
        "   a = b \n",
        "   b = c\n",
        "   count = count + 1"
      ],
      "metadata": {
        "colab": {
          "base_uri": "https://localhost:8080/"
        },
        "id": "Qg3xKEMKFLr-",
        "outputId": "de4fb38f-7905-42bd-ad64-05dfd160815b"
      },
      "execution_count": 21,
      "outputs": [
        {
          "output_type": "stream",
          "name": "stdout",
          "text": [
            "0\n",
            "1\n",
            "1\n",
            "2\n",
            "3\n",
            "5\n",
            "8\n",
            "13\n",
            "21\n",
            "34\n"
          ]
        }
      ]
    },
    {
      "cell_type": "code",
      "source": [
        "#Q:7 Write a List Comprehension to iterate through the given string: ‘pwskills’. \n",
        "#Expected output: ['p', 'w', 's', 'k', 'i', 'l', 'l', 's']  \n"
      ],
      "metadata": {
        "id": "FfYvqRZtFOHv"
      },
      "execution_count": 22,
      "outputs": []
    },
    {
      "cell_type": "code",
      "source": [
        "a = \"pwkills\""
      ],
      "metadata": {
        "id": "2ShV6lNAFVaF"
      },
      "execution_count": 23,
      "outputs": []
    },
    {
      "cell_type": "code",
      "source": [
        "[char for char in  a]"
      ],
      "metadata": {
        "colab": {
          "base_uri": "https://localhost:8080/"
        },
        "id": "z9p6uysGFbF6",
        "outputId": "75dfd238-7f8a-4ee0-8635-c7627f6f563a"
      },
      "execution_count": 24,
      "outputs": [
        {
          "output_type": "execute_result",
          "data": {
            "text/plain": [
              "['p', 'w', 'k', 'i', 'l', 'l', 's']"
            ]
          },
          "metadata": {},
          "execution_count": 24
        }
      ]
    },
    {
      "cell_type": "code",
      "source": [
        "#Q:8 Write a python program to check whether a given number is Palindrome or not using a while loop."
      ],
      "metadata": {
        "id": "GY0A-2DWFd-0"
      },
      "execution_count": 25,
      "outputs": []
    },
    {
      "cell_type": "code",
      "source": [
        "def is_palindrome(num):\n",
        "  a = num\n",
        "  c = 0 \n",
        "  while num > 0:\n",
        "    d =  num  % 10 \n",
        "    c =  c * 10 + d\n",
        "    num //= 10\n",
        "    return a == c\n",
        "\n",
        "num = int(input(\"please enter the number: \"))\n",
        "if is_palindrome(num):\n",
        "  print(\"this is a palindrome number: \")\n",
        "else:\n",
        "  print(\"this is  not a palindrome number: \")\n",
        "  "
      ],
      "metadata": {
        "colab": {
          "base_uri": "https://localhost:8080/"
        },
        "id": "sGvkvCbKFl4T",
        "outputId": "71f17df7-846d-4e2b-d46a-7cd54ac47964"
      },
      "execution_count": 26,
      "outputs": [
        {
          "output_type": "stream",
          "name": "stdout",
          "text": [
            "please enter the number: 30\n",
            "this is  not a palindrome number: \n"
          ]
        }
      ]
    },
    {
      "cell_type": "code",
      "source": [
        "#Q:9  Write a code to print odd numbers from 1 to 100 using list comprehension."
      ],
      "metadata": {
        "id": "0U3FF5MuFn1k"
      },
      "execution_count": 27,
      "outputs": []
    },
    {
      "cell_type": "code",
      "source": [
        "odd_number = [x for x in range(1,100) if x %2 != 0]\n",
        "print(odd_number)"
      ],
      "metadata": {
        "colab": {
          "base_uri": "https://localhost:8080/"
        },
        "id": "AMEM4PSBF3gb",
        "outputId": "fc7bbcf2-6c66-48c8-fee3-530ecc7e7b64"
      },
      "execution_count": 28,
      "outputs": [
        {
          "output_type": "stream",
          "name": "stdout",
          "text": [
            "[1, 3, 5, 7, 9, 11, 13, 15, 17, 19, 21, 23, 25, 27, 29, 31, 33, 35, 37, 39, 41, 43, 45, 47, 49, 51, 53, 55, 57, 59, 61, 63, 65, 67, 69, 71, 73, 75, 77, 79, 81, 83, 85, 87, 89, 91, 93, 95, 97, 99]\n"
          ]
        }
      ]
    },
    {
      "cell_type": "code",
      "source": [],
      "metadata": {
        "id": "Di6BUOb-F7dq"
      },
      "execution_count": null,
      "outputs": []
    }
  ]
}