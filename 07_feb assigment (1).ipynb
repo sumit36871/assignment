{
 "cells": [
  {
   "cell_type": "markdown",
   "id": "e6e26803-1034-4ef8-9685-50d169d7b28b",
   "metadata": {},
   "source": [
    "Q1. You are writing code for a company. The requirement of the company is that you create a python  function that will check whether the password entered by the user is correct or not. The function should  take the password as input and return the string “Valid Password” if the entered password follows the  below-given password guidelines else it should return “Invalid Password”. \n"
   ]
  },
  {
   "cell_type": "code",
   "execution_count": 1,
   "id": "577a9a6d-8e9e-45a7-8689-7b2dd3dbf7b0",
   "metadata": {},
   "outputs": [],
   "source": [
    "import re"
   ]
  },
  {
   "cell_type": "code",
   "execution_count": 2,
   "id": "80c968f8-b25c-4d6a-ac49-bd0eda87caad",
   "metadata": {},
   "outputs": [
    {
     "name": "stdout",
     "output_type": "stream",
     "text": [
      "Invalid Password\n"
     ]
    }
   ],
   "source": [
    "def check_password(password):\n",
    "    if len(password) != 10:\n",
    "        return \"Invalid Password\"\n",
    "    elif not (re.search(\"[a-z]\", password) and re.search(\"[A-Z]\", password)):\n",
    "        return \"Invalid Password\"\n",
    "    elif not (re.search(\"[0-9]\", password)):\n",
    "        return \"Invalid Password\"\n",
    "    elif len(re.findall(\"[!@#$%^&*]\", password)) < 3:\n",
    "        return \"Invalid Password\"\n",
    "    else:\n",
    "        return \"Valid Password\"\n",
    "\n",
    "password = \"ABcd36871#@!\"\n",
    "result = check_password(password)\n",
    "print(result)"
   ]
  },
  {
   "cell_type": "markdown",
   "id": "91c87e3e-04ef-409b-b919-f7da5b2374bb",
   "metadata": {},
   "source": [
    "Q2 ans,1 Check if the string starts with a particular letter"
   ]
  },
  {
   "cell_type": "code",
   "execution_count": 14,
   "id": "08a0c52b-a5fe-4f97-a728-0acda18b261c",
   "metadata": {},
   "outputs": [
    {
     "name": "stdout",
     "output_type": "stream",
     "text": [
      "H\n"
     ]
    }
   ],
   "source": [
    "srtring = \"Hey my self\"\n",
    "check_letter = \"H\"\n",
    "print(check_letter)"
   ]
  },
  {
   "cell_type": "markdown",
   "id": "23a4ec34-99fe-49e5-8b13-7c971d3148d7",
   "metadata": {},
   "source": [
    " 2 Check if the string is numeric:"
   ]
  },
  {
   "cell_type": "code",
   "execution_count": 15,
   "id": "cb0d1bf8-6d1a-450b-848a-08b1ac3c8ab1",
   "metadata": {},
   "outputs": [
    {
     "name": "stdout",
     "output_type": "stream",
     "text": [
      "True\n"
     ]
    }
   ],
   "source": [
    "string  = \"123456\"\n",
    "print(string.isdigit())"
   ]
  },
  {
   "cell_type": "code",
   "execution_count": 16,
   "id": "59eac766-6fe5-4c2c-b434-586171e65fcc",
   "metadata": {},
   "outputs": [
    {
     "data": {
      "text/plain": [
       "'123456'"
      ]
     },
     "execution_count": 16,
     "metadata": {},
     "output_type": "execute_result"
    }
   ],
   "source": [
    "string"
   ]
  },
  {
   "cell_type": "markdown",
   "id": "05920dc1-9bb6-4d66-8a77-4ae83c0cc3b1",
   "metadata": {},
   "source": [
    "3 Sort a list of tuples having fruit names and their quantity:"
   ]
  },
  {
   "cell_type": "code",
   "execution_count": 17,
   "id": "71e0bf75-7859-4b8b-9ded-a4b58b6d00db",
   "metadata": {},
   "outputs": [
    {
     "name": "stdout",
     "output_type": "stream",
     "text": [
      "[('orange', 80), ('mango', 99), ('grapes', 1000)]\n"
     ]
    }
   ],
   "source": [
    "fruits = [(\"mango\",99),(\"orange\",80),(\"grapes\",1000)]\n",
    "fruits.sort(key = lambda x: x[1])\n",
    "print(fruits)\n"
   ]
  },
  {
   "cell_type": "markdown",
   "id": "4d157602-98af-41d8-ab8f-932d23ed5dae",
   "metadata": {},
   "source": [
    " 4  Find the squares of numbers from 1 to 10:"
   ]
  },
  {
   "cell_type": "code",
   "execution_count": 18,
   "id": "cba8cd38-31a2-4576-ba87-4c66730c516d",
   "metadata": {},
   "outputs": [
    {
     "name": "stdout",
     "output_type": "stream",
     "text": [
      "[1, 4, 9, 16, 25, 36, 49, 64, 81, 100]\n"
     ]
    }
   ],
   "source": [
    "numbers = [1,2,3,4,5,6,7,8,9,10]\n",
    "square_number = list(map(lambda x : x**2,numbers))\n",
    "print(square_number)\n"
   ]
  },
  {
   "cell_type": "markdown",
   "id": "d86dae52-2e3b-42c5-b2d2-56ae50df497f",
   "metadata": {},
   "source": [
    "5 Find the cube root of numbers from 1 to 10:"
   ]
  },
  {
   "cell_type": "code",
   "execution_count": 19,
   "id": "0f7a105f-be3e-4021-8060-0776863b9ab5",
   "metadata": {},
   "outputs": [
    {
     "name": "stdout",
     "output_type": "stream",
     "text": [
      "[1.0, 1.2599210498948732, 1.4422495703074083, 1.5874010519681994, 1.7099759466766968, 1.8171205928321397, 1.912931182772389, 2.0, 2.080083823051904, 2.154434690031884]\n"
     ]
    }
   ],
   "source": [
    "import math\n",
    "numbers = [1,2,3,4,5,6,7,8,9,10]\n",
    "cuberoot_numbers = list(map(lambda x: math.pow(x, 1/3), numbers))\n",
    "print(cuberoot_numbers)"
   ]
  },
  {
   "cell_type": "markdown",
   "id": "41e4967f-f781-400c-b786-e8f45174f5c9",
   "metadata": {},
   "source": [
    "6 Check if a given number is even:"
   ]
  },
  {
   "cell_type": "code",
   "execution_count": 20,
   "id": "b557a86a-f653-4516-b696-5f03bfa4beda",
   "metadata": {},
   "outputs": [
    {
     "name": "stdout",
     "output_type": "stream",
     "text": [
      "True\n"
     ]
    }
   ],
   "source": [
    "number = 4\n",
    "even = filter(lambda x: x % 2 == 0, [number])\n",
    "result = True if any(even) else False\n",
    "print(result) "
   ]
  },
  {
   "cell_type": "markdown",
   "id": "ddaa1763-9117-40a6-a7e5-c5e2465145e4",
   "metadata": {},
   "source": [
    "7 Filter odd numbers from the given list.\n",
    "[1,2,3,4,5,6,7,8,9,10]"
   ]
  },
  {
   "cell_type": "code",
   "execution_count": 21,
   "id": "9e4051ce-9454-4e92-bfea-4866d0b60b46",
   "metadata": {},
   "outputs": [
    {
     "name": "stdout",
     "output_type": "stream",
     "text": [
      "[1, 3, 5, 7, 9]\n"
     ]
    }
   ],
   "source": [
    "numbers = [1,2,3,4,5,6,7,8,9,10]\n",
    "odd_numbers = list(filter(lambda x: x % 2 != 0, numbers))\n",
    "print(odd_numbers) "
   ]
  },
  {
   "cell_type": "markdown",
   "id": "f58fde7e-2cd4-458f-bf33-9b6c203ba097",
   "metadata": {},
   "source": [
    "8 Sort a list of integers into positive and negative integers lists.\n",
    "[1,2,3,4,5,6,-1,-2,-3,-4,-5,0]"
   ]
  },
  {
   "cell_type": "code",
   "execution_count": 22,
   "id": "f4c22344-88cf-4813-ac0f-3e36b57f3e83",
   "metadata": {},
   "outputs": [
    {
     "name": "stdout",
     "output_type": "stream",
     "text": [
      "[1, 2, 3, 4, 5, 6]\n",
      "[-1, -2, -3, -4, -5]\n"
     ]
    }
   ],
   "source": [
    "numbers = [1,2,3,4,5,6,-1,-2,-3,-4,-5,0]\n",
    "positive_numbers = list(filter(lambda x: x > 0, numbers))\n",
    "negative_numbers = list(filter(lambda x: x < 0, numbers))\n",
    "print(positive_numbers)\n",
    "print(negative_numbers)"
   ]
  },
  {
   "cell_type": "code",
   "execution_count": null,
   "id": "5f7b14f3-b11b-46d9-afd6-571a6a942dba",
   "metadata": {},
   "outputs": [],
   "source": []
  },
  {
   "cell_type": "code",
   "execution_count": null,
   "id": "4157bb23-eeb5-438d-b788-5343edde3937",
   "metadata": {},
   "outputs": [],
   "source": []
  }
 ],
 "metadata": {
  "kernelspec": {
   "display_name": "Python 3 (ipykernel)",
   "language": "python",
   "name": "python3"
  },
  "language_info": {
   "codemirror_mode": {
    "name": "ipython",
    "version": 3
   },
   "file_extension": ".py",
   "mimetype": "text/x-python",
   "name": "python",
   "nbconvert_exporter": "python",
   "pygments_lexer": "ipython3",
   "version": "3.10.8"
  }
 },
 "nbformat": 4,
 "nbformat_minor": 5
}
