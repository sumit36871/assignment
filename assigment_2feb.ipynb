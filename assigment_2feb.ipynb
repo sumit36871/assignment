{
  "nbformat": 4,
  "nbformat_minor": 0,
  "metadata": {
    "colab": {
      "provenance": []
    },
    "kernelspec": {
      "name": "python3",
      "display_name": "Python 3"
    },
    "language_info": {
      "name": "python"
    }
  },
  "cells": [
    {
      "cell_type": "code",
      "execution_count": 1,
      "metadata": {
        "id": "_UtsfrnplsVO"
      },
      "outputs": [],
      "source": [
        "##Q:1 Explain with an example each when to use a for loop and a while loop."
      ]
    },
    {
      "cell_type": "code",
      "source": [
        "##A for loop is used when you know in advance how many times you want to iterate over a block of code. A common use case is when you have a list or array of items and you want to process each item one by one. For example:a = [\"apple \",\"guava\", \"mango\"]for i in a:\n",
        "a = (\"nilesh\", \"ronaldo\", \"sumit\")\n",
        "for i in a :\n",
        "    print(i)\n",
        "    i = i + i\n",
        "##This code will print each name in the list names one"
      ],
      "metadata": {
        "colab": {
          "base_uri": "https://localhost:8080/"
        },
        "id": "y_7Gz3AZlxxn",
        "outputId": "7fc5852b-cc78-4c9b-dcbe-309e22f0179c"
      },
      "execution_count": 2,
      "outputs": [
        {
          "output_type": "stream",
          "name": "stdout",
          "text": [
            "nilesh\n",
            "ronaldo\n",
            "sumit\n"
          ]
        }
      ]
    },
    {
      "cell_type": "code",
      "source": [
        "## and the other hand, a while loop is used when you want to keep executing a block of code as long as a certain condition is met. For example:"
      ],
      "metadata": {
        "id": "PRcf0WAUl5NE"
      },
      "execution_count": 3,
      "outputs": []
    },
    {
      "cell_type": "code",
      "source": [
        "count = 1\n",
        "while count <= 10:\n",
        "  print(count)\n",
        "  count = count + 1\n",
        "\n",
        " ##This code will print the numbers from 1 to 10. The condition counter <= 10 is checked before each iteration of the loop, and the loop will continue as long as the condition is true.\n"
      ],
      "metadata": {
        "colab": {
          "base_uri": "https://localhost:8080/"
        },
        "id": "tQhbFiXcl5R7",
        "outputId": "5f4596da-1661-4e15-ce09-40643ef911c5"
      },
      "execution_count": 4,
      "outputs": [
        {
          "output_type": "stream",
          "name": "stdout",
          "text": [
            "1\n",
            "2\n",
            "3\n",
            "4\n",
            "5\n",
            "6\n",
            "7\n",
            "8\n",
            "9\n",
            "10\n"
          ]
        }
      ]
    },
    {
      "cell_type": "code",
      "source": [
        "##Q: 2 Write a python program to print the sum and product of the first 10 natural numbers using for\n",
        "##and while loop."
      ],
      "metadata": {
        "id": "5p1f0__xl5UH"
      },
      "execution_count": 5,
      "outputs": []
    },
    {
      "cell_type": "code",
      "source": [
        "from typing_extensions import Protocol\n",
        "sum = 0 \n",
        "product = 1\n",
        "counter = 1\n",
        "while counter <= 10:\n",
        "     sum = sum + product \n",
        "     product = product * counter \n",
        "     counter = counter + 1 \n",
        "\n",
        "\n",
        "print(\"Sum of the first 10 natural numbers:\", sum)\n",
        "print(\"Product of the first 10 natural numbers:\", product)"
      ],
      "metadata": {
        "colab": {
          "base_uri": "https://localhost:8080/"
        },
        "id": "KdAhGVNbl5Wz",
        "outputId": "c897407e-5446-4af6-ef10-cfec38480934"
      },
      "execution_count": 6,
      "outputs": [
        {
          "output_type": "stream",
          "name": "stdout",
          "text": [
            "Sum of the first 10 natural numbers: 409114\n",
            "Product of the first 10 natural numbers: 3628800\n"
          ]
        }
      ]
    },
    {
      "cell_type": "code",
      "source": [
        "##Q:3Create a python program to compute the electricity bill for a household. \n",
        "##The per-unit charges in rupees are as follows: For the first 100 units, the user will be charged Rs. 4.5 per  unit, for the next 100 units, the user will be charged Rs. 6 per unit, and for the next 100 units, the user will  be charged Rs. 10 per unit, After 300 units and above the user will be charged Rs. 20 per unit. \n",
        "##you are required to take the units of electricity consumed in a month from the user as input. \n",
        "##Your program must pass this test case: when the unit of electricity consumed by the user in a month is  310, the total electricity bill should be 2250. \n"
      ],
      "metadata": {
        "id": "Yb5emZQol5aE"
      },
      "execution_count": 7,
      "outputs": []
    },
    {
      "cell_type": "code",
      "source": [
        "unit = int(input (\"please enter the unit of electricity consumed:\"))\n",
        "if  unit <= 100:\n",
        "  bill= unit * 4.5\n",
        "elif unit <= 200:\n",
        "  bill = (100 *4.5) + (unit - 100 )* 6\n",
        "elif unit <= 300:\n",
        "  bill = (100 * 4.5) + (100 * 6) + (unit - 200)* 10\n",
        "else:\n",
        "  bill = (100 * 4.5 ) + (100 * 6) + (100 * 10) + (unit - 300)* 20\n",
        "\n",
        "print(\"the total electricity bill is : \", bill)"
      ],
      "metadata": {
        "colab": {
          "base_uri": "https://localhost:8080/"
        },
        "id": "hyD7R-6dl5d-",
        "outputId": "3a0a53be-c4b9-4de5-ebf9-d35ec6284526"
      },
      "execution_count": 12,
      "outputs": [
        {
          "output_type": "stream",
          "name": "stdout",
          "text": [
            "please enter the unit of electricity consumed:45784\n",
            "the total electricity bill is :  911730.0\n"
          ]
        }
      ]
    },
    {
      "cell_type": "code",
      "source": [
        "##Q:4 Create a list of numbers from 1 to 100. Use for loop and while loop to calculate the cube of each  number and if the cube of that number is divisible by 4 or 5 then append that number in a list and print  that list. \n"
      ],
      "metadata": {
        "id": "tlNf3eMEl5hu"
      },
      "execution_count": null,
      "outputs": []
    },
    {
      "cell_type": "code",
      "source": [
        "number = []\n",
        "i = 1\n",
        "while i <= 100:\n",
        "    cube = i ** 3\n",
        "    if cube % 4 == 0 or  cube % 5 == 0:\n",
        "       number.append(i)\n",
        "    i = i + 1\n",
        "\n",
        "print(\"number whose cube is divisible by 4 or 5 : \", number)"
      ],
      "metadata": {
        "colab": {
          "base_uri": "https://localhost:8080/"
        },
        "id": "sgwP9VRsl5k3",
        "outputId": "94387fbe-e71a-4889-e4e3-89110c32d824"
      },
      "execution_count": 9,
      "outputs": [
        {
          "output_type": "stream",
          "name": "stdout",
          "text": [
            "number whose cube is divisible by 4 or 5 :  [2, 4, 5, 6, 8, 10, 12, 14, 15, 16, 18, 20, 22, 24, 25, 26, 28, 30, 32, 34, 35, 36, 38, 40, 42, 44, 45, 46, 48, 50, 52, 54, 55, 56, 58, 60, 62, 64, 65, 66, 68, 70, 72, 74, 75, 76, 78, 80, 82, 84, 85, 86, 88, 90, 92, 94, 95, 96, 98, 100]\n"
          ]
        }
      ]
    },
    {
      "cell_type": "code",
      "source": [
        "##Q:5 Write a program to filter count vowels in the below-given string. \n"
      ],
      "metadata": {
        "id": "r749TZoAmuLH"
      },
      "execution_count": 10,
      "outputs": []
    },
    {
      "cell_type": "code",
      "source": [
        "string = \"I want to become a data scientist\" \n",
        "vowels = \"AEIOUaeiou\"\n",
        "count = 0\n",
        "for char in string:\n",
        "    if char in vowels:\n",
        "        count += 1\n",
        "print(\"Number of vowels in the string:\", count)"
      ],
      "metadata": {
        "colab": {
          "base_uri": "https://localhost:8080/"
        },
        "id": "XrSuu-jWl5v_",
        "outputId": "88e8763d-7fa2-4c76-c579-ea506509d0e1"
      },
      "execution_count": 11,
      "outputs": [
        {
          "output_type": "stream",
          "name": "stdout",
          "text": [
            "Number of vowels in the string: 12\n"
          ]
        }
      ]
    },
    {
      "cell_type": "code",
      "source": [],
      "metadata": {
        "id": "4n1rWutpmhwo"
      },
      "execution_count": null,
      "outputs": []
    }
  ]
}